{
 "cells": [
  {
   "cell_type": "markdown",
   "metadata": {},
   "source": [
    "A **flow** is the basis of all Prefect workflows. A flow is a Python function decorated with a @flow decorator.\n",
    "\n",
    "A **task** is a Python function decorated with a @task decorator. Tasks represent distinct pieces of work executed within a flow.\n",
    "\n",
    "All Prefect workflows are defined within the context of a flow. Every Prefect workflow must contain at least one flow function that serves as the entrypoint for execution of the flow.\n",
    "\n",
    "Flows can include calls to tasks as well as to child flows, which we call \"subflows\" in this context. At a high level, this is just like writing any other Python application: you organize specific, repetitive work into tasks, and call those tasks from flows."
   ]
  },
  {
   "cell_type": "code",
   "execution_count": 1,
   "metadata": {},
   "outputs": [],
   "source": [
    "import requests\n",
    "from prefect import flow, task\n",
    "import time"
   ]
  },
  {
   "cell_type": "code",
   "execution_count": 2,
   "metadata": {},
   "outputs": [],
   "source": [
    "@task\n",
    "def call_api(url):\n",
    "    response = requests.get(url)\n",
    "    print(response.status_code)\n",
    "    return response.json()"
   ]
  },
  {
   "cell_type": "code",
   "execution_count": 3,
   "metadata": {},
   "outputs": [],
   "source": [
    "@flow\n",
    "def api_flow(url):\n",
    "    fact_json = call_api(url)\n",
    "    return fact_json"
   ]
  },
  {
   "cell_type": "code",
   "execution_count": 4,
   "metadata": {},
   "outputs": [
    {
     "data": {
      "text/html": [
       "<pre style=\"white-space:pre;overflow-x:auto;line-height:normal;font-family:Menlo,'DejaVu Sans Mono',consolas,'Courier New',monospace\">22:31:21.886 | <span style=\"color: #008080; text-decoration-color: #008080\">INFO</span>    | prefect.engine - Created flow run<span style=\"color: #800080; text-decoration-color: #800080\"> 'fanatic-goose'</span> for flow<span style=\"color: #800080; text-decoration-color: #800080; font-weight: bold\"> 'api-flow'</span>\n",
       "</pre>\n"
      ],
      "text/plain": [
       "22:31:21.886 | \u001b[36mINFO\u001b[0m    | prefect.engine - Created flow run\u001b[35m 'fanatic-goose'\u001b[0m for flow\u001b[1;35m 'api-flow'\u001b[0m\n"
      ]
     },
     "metadata": {},
     "output_type": "display_data"
    },
    {
     "data": {
      "text/html": [
       "<pre style=\"white-space:pre;overflow-x:auto;line-height:normal;font-family:Menlo,'DejaVu Sans Mono',consolas,'Courier New',monospace\">22:31:22.698 | <span style=\"color: #008080; text-decoration-color: #008080\">INFO</span>    | Flow run<span style=\"color: #800080; text-decoration-color: #800080\"> 'fanatic-goose'</span> - Created task run 'call_api-ded10bed-0' for task 'call_api'\n",
       "</pre>\n"
      ],
      "text/plain": [
       "22:31:22.698 | \u001b[36mINFO\u001b[0m    | Flow run\u001b[35m 'fanatic-goose'\u001b[0m - Created task run 'call_api-ded10bed-0' for task 'call_api'\n"
      ]
     },
     "metadata": {},
     "output_type": "display_data"
    },
    {
     "data": {
      "text/html": [
       "<pre style=\"white-space:pre;overflow-x:auto;line-height:normal;font-family:Menlo,'DejaVu Sans Mono',consolas,'Courier New',monospace\">22:31:22.700 | <span style=\"color: #008080; text-decoration-color: #008080\">INFO</span>    | Flow run<span style=\"color: #800080; text-decoration-color: #800080\"> 'fanatic-goose'</span> - Executing 'call_api-ded10bed-0' immediately...\n",
       "</pre>\n"
      ],
      "text/plain": [
       "22:31:22.700 | \u001b[36mINFO\u001b[0m    | Flow run\u001b[35m 'fanatic-goose'\u001b[0m - Executing 'call_api-ded10bed-0' immediately...\n"
      ]
     },
     "metadata": {},
     "output_type": "display_data"
    },
    {
     "name": "stdout",
     "output_type": "stream",
     "text": [
      "200\n"
     ]
    },
    {
     "data": {
      "text/html": [
       "<pre style=\"white-space:pre;overflow-x:auto;line-height:normal;font-family:Menlo,'DejaVu Sans Mono',consolas,'Courier New',monospace\">22:31:23.987 | <span style=\"color: #008080; text-decoration-color: #008080\">INFO</span>    | Task run 'call_api-ded10bed-0' - Finished in state <span style=\"color: #008000; text-decoration-color: #008000\">Completed</span>()\n",
       "</pre>\n"
      ],
      "text/plain": [
       "22:31:23.987 | \u001b[36mINFO\u001b[0m    | Task run 'call_api-ded10bed-0' - Finished in state \u001b[32mCompleted\u001b[0m()\n"
      ]
     },
     "metadata": {},
     "output_type": "display_data"
    },
    {
     "data": {
      "text/html": [
       "<pre style=\"white-space:pre;overflow-x:auto;line-height:normal;font-family:Menlo,'DejaVu Sans Mono',consolas,'Courier New',monospace\">22:31:24.293 | <span style=\"color: #008080; text-decoration-color: #008080\">INFO</span>    | Flow run<span style=\"color: #800080; text-decoration-color: #800080\"> 'fanatic-goose'</span> - Finished in state <span style=\"color: #008000; text-decoration-color: #008000\">Completed</span>()\n",
       "</pre>\n"
      ],
      "text/plain": [
       "22:31:24.293 | \u001b[36mINFO\u001b[0m    | Flow run\u001b[35m 'fanatic-goose'\u001b[0m - Finished in state \u001b[32mCompleted\u001b[0m()\n"
      ]
     },
     "metadata": {},
     "output_type": "display_data"
    },
    {
     "name": "stdout",
     "output_type": "stream",
     "text": [
      "{'fact': \"A cat's smell is their strongest sense, and they rely on this leading sense to identify people and objects; a feline's sense of smell is 14x better than a human's.\", 'length': 163}\n"
     ]
    }
   ],
   "source": [
    "print(api_flow(\"https://catfact.ninja/fact\"))"
   ]
  },
  {
   "cell_type": "markdown",
   "metadata": {},
   "source": [
    "Basic flow configuration includes the ability to provide a name, description, and version and other options for the flow via flow arguments.\n",
    "\n",
    "You specify flow configuration as arguments on the @flow decorator.\n",
    "\n",
    "By design, tasks follow a very similar model to flows: you can independently assign tasks their own name and description."
   ]
  },
  {
   "cell_type": "code",
   "execution_count": 5,
   "metadata": {},
   "outputs": [],
   "source": [
    "@task(name=\"My Example Task\", \n",
    "      description=\"An example task for a tutorial.\",\n",
    "      retries=5,\n",
    "      retry_delay_seconds=60)\n",
    "def my_task():\n",
    "    print(\"Task1\")\n",
    "\n",
    "@flow(name=\"My Example Flow\", \n",
    "      description=\"An example flow for a tutorial.\")\n",
    "def my_flow():\n",
    "    my_task()"
   ]
  },
  {
   "cell_type": "markdown",
   "metadata": {},
   "source": [
    "**Task runners** are responsible for running Prefect tasks within a flow. Each flow has a task runner associated with it. Depending on the task runner you use, the tasks within your flow can run sequentially, concurrently, or in parallel. You can even configure task runners to use distributed execution infrastructure such as a Dask cluster.\n",
    "\n",
    "By default, the result of a task is a Python object, and execution of the task blocks the execution of the next task in a flow. To make sure that the tasks within your flow can run concurrently or in parallel, add .submit() to your task run. This method will return a PrefectFuture instead of a Python object. A PrefectFuture is an object that provides access to a computation happening in a task runner. \n",
    "\n",
    "The default task runner is the ConcurrentTaskRunner, which will run submitted tasks concurrently. If you don't specify a task runner, Prefect uses the ConcurrentTaskRunner."
   ]
  },
  {
   "cell_type": "code",
   "execution_count": 6,
   "metadata": {},
   "outputs": [
    {
     "data": {
      "text/html": [
       "<pre style=\"white-space:pre;overflow-x:auto;line-height:normal;font-family:Menlo,'DejaVu Sans Mono',consolas,'Courier New',monospace\">22:31:25.015 | <span style=\"color: #008080; text-decoration-color: #008080\">INFO</span>    | prefect.engine - Created flow run<span style=\"color: #800080; text-decoration-color: #800080\"> 'elastic-bison'</span> for flow<span style=\"color: #800080; text-decoration-color: #800080; font-weight: bold\"> 'my-flow'</span>\n",
       "</pre>\n"
      ],
      "text/plain": [
       "22:31:25.015 | \u001b[36mINFO\u001b[0m    | prefect.engine - Created flow run\u001b[35m 'elastic-bison'\u001b[0m for flow\u001b[1;35m 'my-flow'\u001b[0m\n"
      ]
     },
     "metadata": {},
     "output_type": "display_data"
    },
    {
     "data": {
      "text/html": [
       "<pre style=\"white-space:pre;overflow-x:auto;line-height:normal;font-family:Menlo,'DejaVu Sans Mono',consolas,'Courier New',monospace\">22:31:25.796 | <span style=\"color: #008080; text-decoration-color: #008080\">INFO</span>    | Flow run<span style=\"color: #800080; text-decoration-color: #800080\"> 'elastic-bison'</span> - Created task run 'print_values-0bb9a2c3-0' for task 'print_values'\n",
       "</pre>\n"
      ],
      "text/plain": [
       "22:31:25.796 | \u001b[36mINFO\u001b[0m    | Flow run\u001b[35m 'elastic-bison'\u001b[0m - Created task run 'print_values-0bb9a2c3-0' for task 'print_values'\n"
      ]
     },
     "metadata": {},
     "output_type": "display_data"
    },
    {
     "data": {
      "text/html": [
       "<pre style=\"white-space:pre;overflow-x:auto;line-height:normal;font-family:Menlo,'DejaVu Sans Mono',consolas,'Courier New',monospace\">22:31:25.800 | <span style=\"color: #008080; text-decoration-color: #008080\">INFO</span>    | Flow run<span style=\"color: #800080; text-decoration-color: #800080\"> 'elastic-bison'</span> - Submitted task run 'print_values-0bb9a2c3-0' for execution.\n",
       "</pre>\n"
      ],
      "text/plain": [
       "22:31:25.800 | \u001b[36mINFO\u001b[0m    | Flow run\u001b[35m 'elastic-bison'\u001b[0m - Submitted task run 'print_values-0bb9a2c3-0' for execution.\n"
      ]
     },
     "metadata": {},
     "output_type": "display_data"
    },
    {
     "data": {
      "text/html": [
       "<pre style=\"white-space:pre;overflow-x:auto;line-height:normal;font-family:Menlo,'DejaVu Sans Mono',consolas,'Courier New',monospace\">22:31:25.940 | <span style=\"color: #008080; text-decoration-color: #008080\">INFO</span>    | Flow run<span style=\"color: #800080; text-decoration-color: #800080\"> 'elastic-bison'</span> - Created task run 'print_values-0bb9a2c3-1' for task 'print_values'\n",
       "</pre>\n"
      ],
      "text/plain": [
       "22:31:25.940 | \u001b[36mINFO\u001b[0m    | Flow run\u001b[35m 'elastic-bison'\u001b[0m - Created task run 'print_values-0bb9a2c3-1' for task 'print_values'\n"
      ]
     },
     "metadata": {},
     "output_type": "display_data"
    },
    {
     "data": {
      "text/html": [
       "<pre style=\"white-space:pre;overflow-x:auto;line-height:normal;font-family:Menlo,'DejaVu Sans Mono',consolas,'Courier New',monospace\">22:31:25.944 | <span style=\"color: #008080; text-decoration-color: #008080\">INFO</span>    | Flow run<span style=\"color: #800080; text-decoration-color: #800080\"> 'elastic-bison'</span> - Submitted task run 'print_values-0bb9a2c3-1' for execution.\n",
       "</pre>\n"
      ],
      "text/plain": [
       "22:31:25.944 | \u001b[36mINFO\u001b[0m    | Flow run\u001b[35m 'elastic-bison'\u001b[0m - Submitted task run 'print_values-0bb9a2c3-1' for execution.\n"
      ]
     },
     "metadata": {},
     "output_type": "display_data"
    },
    {
     "name": "stdout",
     "output_type": "stream",
     "text": [
      "AAAA\r"
     ]
    },
    {
     "data": {
      "text/html": [
       "<pre style=\"white-space:pre;overflow-x:auto;line-height:normal;font-family:Menlo,'DejaVu Sans Mono',consolas,'Courier New',monospace\">22:31:31.567 | <span style=\"color: #008080; text-decoration-color: #008080\">INFO</span>    | Task run 'print_values-0bb9a2c3-1' - Finished in state <span style=\"color: #008000; text-decoration-color: #008000\">Completed</span>()\n",
       "</pre>\n"
      ],
      "text/plain": [
       "22:31:31.567 | \u001b[36mINFO\u001b[0m    | Task run 'print_values-0bb9a2c3-1' - Finished in state \u001b[32mCompleted\u001b[0m()\n"
      ]
     },
     "metadata": {},
     "output_type": "display_data"
    },
    {
     "name": "stdout",
     "output_type": "stream",
     "text": [
      "AAAA\r"
     ]
    },
    {
     "data": {
      "text/html": [
       "<pre style=\"white-space:pre;overflow-x:auto;line-height:normal;font-family:Menlo,'DejaVu Sans Mono',consolas,'Courier New',monospace\">22:31:33.792 | <span style=\"color: #008080; text-decoration-color: #008080\">INFO</span>    | Task run 'print_values-0bb9a2c3-0' - Finished in state <span style=\"color: #008000; text-decoration-color: #008000\">Completed</span>()\n",
       "</pre>\n"
      ],
      "text/plain": [
       "22:31:33.792 | \u001b[36mINFO\u001b[0m    | Task run 'print_values-0bb9a2c3-0' - Finished in state \u001b[32mCompleted\u001b[0m()\n"
      ]
     },
     "metadata": {},
     "output_type": "display_data"
    },
    {
     "data": {
      "text/html": [
       "<pre style=\"white-space:pre;overflow-x:auto;line-height:normal;font-family:Menlo,'DejaVu Sans Mono',consolas,'Courier New',monospace\">22:31:33.991 | <span style=\"color: #008080; text-decoration-color: #008080\">INFO</span>    | Flow run<span style=\"color: #800080; text-decoration-color: #800080\"> 'elastic-bison'</span> - Finished in state <span style=\"color: #008000; text-decoration-color: #008000\">Completed</span>('All states completed.')\n",
       "</pre>\n"
      ],
      "text/plain": [
       "22:31:33.991 | \u001b[36mINFO\u001b[0m    | Flow run\u001b[35m 'elastic-bison'\u001b[0m - Finished in state \u001b[32mCompleted\u001b[0m('All states completed.')\n"
      ]
     },
     "metadata": {},
     "output_type": "display_data"
    }
   ],
   "source": [
    "@task\n",
    "def print_values(values):\n",
    "    for value in values:\n",
    "        time.sleep(0.5)\n",
    "        print(value, end=\"\\r\")\n",
    "\n",
    "@flow\n",
    "def my_flow():\n",
    "    print_values.submit([\"AAAA\"] * 15)\n",
    "    print_values.submit([\"BBBB\"] * 10)\n",
    "\n",
    "if __name__ == \"__main__\":\n",
    "    my_flow()"
   ]
  },
  {
   "cell_type": "markdown",
   "metadata": {},
   "source": [
    "Sometimes you may want to intentionally run **tasks sequentially**. The built-in Prefect SequentialTaskRunner lets you do this.\n",
    "\n",
    "When using non-default task runner, you must import the task runner into your flow script."
   ]
  },
  {
   "cell_type": "code",
   "execution_count": 7,
   "metadata": {},
   "outputs": [
    {
     "data": {
      "text/html": [
       "<pre style=\"white-space:pre;overflow-x:auto;line-height:normal;font-family:Menlo,'DejaVu Sans Mono',consolas,'Courier New',monospace\">22:31:34.509 | <span style=\"color: #008080; text-decoration-color: #008080\">INFO</span>    | prefect.engine - Created flow run<span style=\"color: #800080; text-decoration-color: #800080\"> 'cinnamon-bettong'</span> for flow<span style=\"color: #800080; text-decoration-color: #800080; font-weight: bold\"> 'Sequential Flow'</span>\n",
       "</pre>\n"
      ],
      "text/plain": [
       "22:31:34.509 | \u001b[36mINFO\u001b[0m    | prefect.engine - Created flow run\u001b[35m 'cinnamon-bettong'\u001b[0m for flow\u001b[1;35m 'Sequential Flow'\u001b[0m\n"
      ]
     },
     "metadata": {},
     "output_type": "display_data"
    },
    {
     "data": {
      "text/html": [
       "<pre style=\"white-space:pre;overflow-x:auto;line-height:normal;font-family:Menlo,'DejaVu Sans Mono',consolas,'Courier New',monospace\">22:31:35.450 | <span style=\"color: #008080; text-decoration-color: #008080\">INFO</span>    | Flow run<span style=\"color: #800080; text-decoration-color: #800080\"> 'cinnamon-bettong'</span> - Created task run 'Sequential Task-0bb9a2c3-0' for task 'Sequential Task'\n",
       "</pre>\n"
      ],
      "text/plain": [
       "22:31:35.450 | \u001b[36mINFO\u001b[0m    | Flow run\u001b[35m 'cinnamon-bettong'\u001b[0m - Created task run 'Sequential Task-0bb9a2c3-0' for task 'Sequential Task'\n"
      ]
     },
     "metadata": {},
     "output_type": "display_data"
    },
    {
     "data": {
      "text/html": [
       "<pre style=\"white-space:pre;overflow-x:auto;line-height:normal;font-family:Menlo,'DejaVu Sans Mono',consolas,'Courier New',monospace\">22:31:35.453 | <span style=\"color: #008080; text-decoration-color: #008080\">INFO</span>    | Flow run<span style=\"color: #800080; text-decoration-color: #800080\"> 'cinnamon-bettong'</span> - Executing 'Sequential Task-0bb9a2c3-0' immediately...\n",
       "</pre>\n"
      ],
      "text/plain": [
       "22:31:35.453 | \u001b[36mINFO\u001b[0m    | Flow run\u001b[35m 'cinnamon-bettong'\u001b[0m - Executing 'Sequential Task-0bb9a2c3-0' immediately...\n"
      ]
     },
     "metadata": {},
     "output_type": "display_data"
    },
    {
     "name": "stdout",
     "output_type": "stream",
     "text": [
      "AAAA\r"
     ]
    },
    {
     "data": {
      "text/html": [
       "<pre style=\"white-space:pre;overflow-x:auto;line-height:normal;font-family:Menlo,'DejaVu Sans Mono',consolas,'Courier New',monospace\">22:31:43.489 | <span style=\"color: #008080; text-decoration-color: #008080\">INFO</span>    | Task run 'Sequential Task-0bb9a2c3-0' - Finished in state <span style=\"color: #008000; text-decoration-color: #008000\">Completed</span>()\n",
       "</pre>\n"
      ],
      "text/plain": [
       "22:31:43.489 | \u001b[36mINFO\u001b[0m    | Task run 'Sequential Task-0bb9a2c3-0' - Finished in state \u001b[32mCompleted\u001b[0m()\n"
      ]
     },
     "metadata": {},
     "output_type": "display_data"
    },
    {
     "data": {
      "text/html": [
       "<pre style=\"white-space:pre;overflow-x:auto;line-height:normal;font-family:Menlo,'DejaVu Sans Mono',consolas,'Courier New',monospace\">22:31:43.641 | <span style=\"color: #008080; text-decoration-color: #008080\">INFO</span>    | Flow run<span style=\"color: #800080; text-decoration-color: #800080\"> 'cinnamon-bettong'</span> - Created task run 'Sequential Task-0bb9a2c3-1' for task 'Sequential Task'\n",
       "</pre>\n"
      ],
      "text/plain": [
       "22:31:43.641 | \u001b[36mINFO\u001b[0m    | Flow run\u001b[35m 'cinnamon-bettong'\u001b[0m - Created task run 'Sequential Task-0bb9a2c3-1' for task 'Sequential Task'\n"
      ]
     },
     "metadata": {},
     "output_type": "display_data"
    },
    {
     "data": {
      "text/html": [
       "<pre style=\"white-space:pre;overflow-x:auto;line-height:normal;font-family:Menlo,'DejaVu Sans Mono',consolas,'Courier New',monospace\">22:31:43.646 | <span style=\"color: #008080; text-decoration-color: #008080\">INFO</span>    | Flow run<span style=\"color: #800080; text-decoration-color: #800080\"> 'cinnamon-bettong'</span> - Executing 'Sequential Task-0bb9a2c3-1' immediately...\n",
       "</pre>\n"
      ],
      "text/plain": [
       "22:31:43.646 | \u001b[36mINFO\u001b[0m    | Flow run\u001b[35m 'cinnamon-bettong'\u001b[0m - Executing 'Sequential Task-0bb9a2c3-1' immediately...\n"
      ]
     },
     "metadata": {},
     "output_type": "display_data"
    },
    {
     "name": "stdout",
     "output_type": "stream",
     "text": [
      "BBBB\r"
     ]
    },
    {
     "data": {
      "text/html": [
       "<pre style=\"white-space:pre;overflow-x:auto;line-height:normal;font-family:Menlo,'DejaVu Sans Mono',consolas,'Courier New',monospace\">22:31:49.009 | <span style=\"color: #008080; text-decoration-color: #008080\">INFO</span>    | Task run 'Sequential Task-0bb9a2c3-1' - Finished in state <span style=\"color: #008000; text-decoration-color: #008000\">Completed</span>()\n",
       "</pre>\n"
      ],
      "text/plain": [
       "22:31:49.009 | \u001b[36mINFO\u001b[0m    | Task run 'Sequential Task-0bb9a2c3-1' - Finished in state \u001b[32mCompleted\u001b[0m()\n"
      ]
     },
     "metadata": {},
     "output_type": "display_data"
    },
    {
     "data": {
      "text/html": [
       "<pre style=\"white-space:pre;overflow-x:auto;line-height:normal;font-family:Menlo,'DejaVu Sans Mono',consolas,'Courier New',monospace\">22:31:49.156 | <span style=\"color: #008080; text-decoration-color: #008080\">INFO</span>    | Flow run<span style=\"color: #800080; text-decoration-color: #800080\"> 'cinnamon-bettong'</span> - Finished in state <span style=\"color: #008000; text-decoration-color: #008000\">Completed</span>('All states completed.')\n",
       "</pre>\n"
      ],
      "text/plain": [
       "22:31:49.156 | \u001b[36mINFO\u001b[0m    | Flow run\u001b[35m 'cinnamon-bettong'\u001b[0m - Finished in state \u001b[32mCompleted\u001b[0m('All states completed.')\n"
      ]
     },
     "metadata": {},
     "output_type": "display_data"
    }
   ],
   "source": [
    "from prefect.task_runners import SequentialTaskRunner\n",
    "\n",
    "@task(name=\"Sequential Task\")\n",
    "def print_values(values):\n",
    "    for value in values:\n",
    "        time.sleep(0.5)\n",
    "        print(value, end=\"\\r\")\n",
    "\n",
    "@flow(name=\"Sequential Flow\",\n",
    "      task_runner=SequentialTaskRunner())\n",
    "def my_flow():\n",
    "    print_values.submit([\"AAAA\"] * 15)\n",
    "    print_values.submit([\"BBBB\"] * 10)\n",
    "\n",
    "if __name__ == \"__main__\":\n",
    "    my_flow()"
   ]
  },
  {
   "cell_type": "markdown",
   "metadata": {},
   "source": [
    "You can also run tasks using **parallel or distributed** execution by using the Dask or Ray task runners available through **Prefect Collections**.\n",
    "\n",
    "For example, you can achieve parallel task execution, even on in a local execution environment, but using the DaskTaskRunner.\n",
    "\n",
    "1. Install the prefect-dask collection with pip install prefect-dask.\n",
    "2. Switch your task runner to the DaskTaskRunner.\n",
    "3. Call .submit on the task instead of calling the task directly. This submits the task to the task runner rather than running the task in-process.\n"
   ]
  },
  {
   "cell_type": "code",
   "execution_count": 8,
   "metadata": {},
   "outputs": [
    {
     "name": "stdout",
     "output_type": "stream",
     "text": [
      "Collecting prefect-dask\n",
      "  Downloading prefect_dask-0.2.2-py3-none-any.whl (16 kB)\n",
      "Collecting distributed>=2022.5.0\n",
      "  Downloading distributed-2022.12.1-py3-none-any.whl (930 kB)\n",
      "\u001b[2K     \u001b[38;2;114;156;31m━━━━━━━━━━━━━━━━━━━━━━━━━━━━━━━━━━━━━━━\u001b[0m \u001b[32m930.1/930.1 kB\u001b[0m \u001b[31m3.0 MB/s\u001b[0m eta \u001b[36m0:00:00\u001b[0mm eta \u001b[36m0:00:01\u001b[0m[36m0:00:01\u001b[0m\n",
      "\u001b[?25hRequirement already satisfied: prefect>=2.6.0 in /root/.local/share/virtualenvs/overview-xFZwEpOD/lib/python3.9/site-packages (from prefect-dask) (2.7.4)\n",
      "Collecting tblib>=1.6.0\n",
      "  Downloading tblib-1.7.0-py2.py3-none-any.whl (12 kB)\n",
      "Collecting toolz>=0.10.0\n",
      "  Downloading toolz-0.12.0-py3-none-any.whl (55 kB)\n",
      "\u001b[2K     \u001b[38;2;114;156;31m━━━━━━━━━━━━━━━━━━━━━━━━━━━━━━━━━━━━━━━\u001b[0m \u001b[32m55.8/55.8 kB\u001b[0m \u001b[31m754.6 kB/s\u001b[0m eta \u001b[36m0:00:00\u001b[0m31m18.5 MB/s\u001b[0m eta \u001b[36m0:00:01\u001b[0m\n",
      "\u001b[?25hCollecting locket>=1.0.0\n",
      "  Downloading locket-1.0.0-py2.py3-none-any.whl (4.4 kB)\n",
      "Collecting zict>=0.1.3\n",
      "  Downloading zict-2.2.0-py2.py3-none-any.whl (23 kB)\n",
      "Requirement already satisfied: click>=7.0 in /root/.local/share/virtualenvs/overview-xFZwEpOD/lib/python3.9/site-packages (from distributed>=2022.5.0->prefect-dask) (8.1.3)\n",
      "Requirement already satisfied: jinja2 in /root/.local/share/virtualenvs/overview-xFZwEpOD/lib/python3.9/site-packages (from distributed>=2022.5.0->prefect-dask) (3.1.2)\n",
      "Collecting sortedcontainers!=2.0.0,!=2.0.1\n",
      "  Downloading sortedcontainers-2.4.0-py2.py3-none-any.whl (29 kB)\n",
      "Requirement already satisfied: psutil>=5.0 in /root/.local/share/virtualenvs/overview-xFZwEpOD/lib/python3.9/site-packages (from distributed>=2022.5.0->prefect-dask) (5.9.4)\n",
      "Requirement already satisfied: urllib3 in /root/.local/share/virtualenvs/overview-xFZwEpOD/lib/python3.9/site-packages (from distributed>=2022.5.0->prefect-dask) (1.26.13)\n",
      "Requirement already satisfied: tornado>=6.0.3 in /root/.local/share/virtualenvs/overview-xFZwEpOD/lib/python3.9/site-packages (from distributed>=2022.5.0->prefect-dask) (6.2)\n",
      "Requirement already satisfied: packaging>=20.0 in /root/.local/share/virtualenvs/overview-xFZwEpOD/lib/python3.9/site-packages (from distributed>=2022.5.0->prefect-dask) (22.0)\n",
      "Collecting msgpack>=0.6.0\n",
      "  Using cached msgpack-1.0.4-cp39-cp39-manylinux_2_17_x86_64.manylinux2014_x86_64.whl (322 kB)\n",
      "Requirement already satisfied: cloudpickle>=1.5.0 in /root/.local/share/virtualenvs/overview-xFZwEpOD/lib/python3.9/site-packages (from distributed>=2022.5.0->prefect-dask) (2.2.0)\n",
      "Requirement already satisfied: pyyaml in /root/.local/share/virtualenvs/overview-xFZwEpOD/lib/python3.9/site-packages (from distributed>=2022.5.0->prefect-dask) (6.0)\n",
      "Collecting dask==2022.12.1\n",
      "  Downloading dask-2022.12.1-py3-none-any.whl (1.1 MB)\n",
      "\u001b[2K     \u001b[38;2;114;156;31m━━━━━━━━━━━━━━━━━━━━━━━━━━━━━━━━━━━━━━━━\u001b[0m \u001b[32m1.1/1.1 MB\u001b[0m \u001b[31m2.8 MB/s\u001b[0m eta \u001b[36m0:00:00\u001b[0mm eta \u001b[36m0:00:01\u001b[0m0:01\u001b[0m:01\u001b[0m\n",
      "\u001b[?25hCollecting partd>=0.3.10\n",
      "  Downloading partd-1.3.0-py3-none-any.whl (18 kB)\n",
      "Requirement already satisfied: fsspec>=0.6.0 in /root/.local/share/virtualenvs/overview-xFZwEpOD/lib/python3.9/site-packages (from dask==2022.12.1->distributed>=2022.5.0->prefect-dask) (2022.11.0)\n",
      "Requirement already satisfied: sqlalchemy[asyncio]!=1.4.33,>=1.4.20 in /root/.local/share/virtualenvs/overview-xFZwEpOD/lib/python3.9/site-packages (from prefect>=2.6.0->prefect-dask) (1.4.45)\n",
      "Requirement already satisfied: docker>=4.0 in /root/.local/share/virtualenvs/overview-xFZwEpOD/lib/python3.9/site-packages (from prefect>=2.6.0->prefect-dask) (6.0.1)\n",
      "Requirement already satisfied: pendulum>=2.1.2 in /root/.local/share/virtualenvs/overview-xFZwEpOD/lib/python3.9/site-packages (from prefect>=2.6.0->prefect-dask) (2.1.2)\n",
      "Requirement already satisfied: croniter>=1.0.12 in /root/.local/share/virtualenvs/overview-xFZwEpOD/lib/python3.9/site-packages (from prefect>=2.6.0->prefect-dask) (1.3.8)\n",
      "Requirement already satisfied: httpx[http2]>=0.23 in /root/.local/share/virtualenvs/overview-xFZwEpOD/lib/python3.9/site-packages (from prefect>=2.6.0->prefect-dask) (0.23.1)\n",
      "Requirement already satisfied: aiosqlite>=0.17.0 in /root/.local/share/virtualenvs/overview-xFZwEpOD/lib/python3.9/site-packages (from prefect>=2.6.0->prefect-dask) (0.18.0)\n",
      "Requirement already satisfied: jsonpatch>=1.32 in /root/.local/share/virtualenvs/overview-xFZwEpOD/lib/python3.9/site-packages (from prefect>=2.6.0->prefect-dask) (1.32)\n",
      "Requirement already satisfied: pytz>=2021.1 in /root/.local/share/virtualenvs/overview-xFZwEpOD/lib/python3.9/site-packages (from prefect>=2.6.0->prefect-dask) (2022.7)\n",
      "Requirement already satisfied: rich>=11.0 in /root/.local/share/virtualenvs/overview-xFZwEpOD/lib/python3.9/site-packages (from prefect>=2.6.0->prefect-dask) (12.6.0)\n",
      "Requirement already satisfied: apprise>=1.1.0 in /root/.local/share/virtualenvs/overview-xFZwEpOD/lib/python3.9/site-packages (from prefect>=2.6.0->prefect-dask) (1.2.0)\n",
      "Requirement already satisfied: toml>=0.10.0 in /root/.local/share/virtualenvs/overview-xFZwEpOD/lib/python3.9/site-packages (from prefect>=2.6.0->prefect-dask) (0.10.2)\n",
      "Requirement already satisfied: anyio>=3.4.0 in /root/.local/share/virtualenvs/overview-xFZwEpOD/lib/python3.9/site-packages (from prefect>=2.6.0->prefect-dask) (3.6.2)\n",
      "Requirement already satisfied: importlib-metadata>=4.4 in /root/.local/share/virtualenvs/overview-xFZwEpOD/lib/python3.9/site-packages (from prefect>=2.6.0->prefect-dask) (5.2.0)\n",
      "Requirement already satisfied: coolname>=1.0.4 in /root/.local/share/virtualenvs/overview-xFZwEpOD/lib/python3.9/site-packages (from prefect>=2.6.0->prefect-dask) (2.1.0)\n",
      "Requirement already satisfied: uvicorn>=0.14.0 in /root/.local/share/virtualenvs/overview-xFZwEpOD/lib/python3.9/site-packages (from prefect>=2.6.0->prefect-dask) (0.20.0)\n",
      "Requirement already satisfied: cryptography>=36.0.1 in /root/.local/share/virtualenvs/overview-xFZwEpOD/lib/python3.9/site-packages (from prefect>=2.6.0->prefect-dask) (38.0.4)\n",
      "Requirement already satisfied: readchar>=4.0.0 in /root/.local/share/virtualenvs/overview-xFZwEpOD/lib/python3.9/site-packages (from prefect>=2.6.0->prefect-dask) (4.0.3)\n",
      "Requirement already satisfied: alembic>=1.7.5 in /root/.local/share/virtualenvs/overview-xFZwEpOD/lib/python3.9/site-packages (from prefect>=2.6.0->prefect-dask) (1.9.1)\n",
      "Requirement already satisfied: pathspec>=0.8.0 in /root/.local/share/virtualenvs/overview-xFZwEpOD/lib/python3.9/site-packages (from prefect>=2.6.0->prefect-dask) (0.10.3)\n",
      "Requirement already satisfied: asgi-lifespan>=1.0 in /root/.local/share/virtualenvs/overview-xFZwEpOD/lib/python3.9/site-packages (from prefect>=2.6.0->prefect-dask) (2.0.0)\n",
      "Requirement already satisfied: pydantic>=1.10.0 in /root/.local/share/virtualenvs/overview-xFZwEpOD/lib/python3.9/site-packages (from prefect>=2.6.0->prefect-dask) (1.10.2)\n",
      "Requirement already satisfied: griffe>=0.20.0 in /root/.local/share/virtualenvs/overview-xFZwEpOD/lib/python3.9/site-packages (from prefect>=2.6.0->prefect-dask) (0.25.2)\n",
      "Requirement already satisfied: fastapi>=0.70 in /root/.local/share/virtualenvs/overview-xFZwEpOD/lib/python3.9/site-packages (from prefect>=2.6.0->prefect-dask) (0.88.0)\n",
      "Requirement already satisfied: orjson>=3.7 in /root/.local/share/virtualenvs/overview-xFZwEpOD/lib/python3.9/site-packages (from prefect>=2.6.0->prefect-dask) (3.8.3)\n",
      "Requirement already satisfied: python-slugify>=5.0 in /root/.local/share/virtualenvs/overview-xFZwEpOD/lib/python3.9/site-packages (from prefect>=2.6.0->prefect-dask) (7.0.0)\n",
      "Requirement already satisfied: kubernetes>=24.2.0 in /root/.local/share/virtualenvs/overview-xFZwEpOD/lib/python3.9/site-packages (from prefect>=2.6.0->prefect-dask) (25.3.0)\n",
      "Requirement already satisfied: typing-extensions>=4.1.0 in /root/.local/share/virtualenvs/overview-xFZwEpOD/lib/python3.9/site-packages (from prefect>=2.6.0->prefect-dask) (4.4.0)\n",
      "Requirement already satisfied: typer>=0.4.2 in /root/.local/share/virtualenvs/overview-xFZwEpOD/lib/python3.9/site-packages (from prefect>=2.6.0->prefect-dask) (0.7.0)\n",
      "Requirement already satisfied: asyncpg>=0.23 in /root/.local/share/virtualenvs/overview-xFZwEpOD/lib/python3.9/site-packages (from prefect>=2.6.0->prefect-dask) (0.27.0)\n",
      "Requirement already satisfied: Mako in /root/.local/share/virtualenvs/overview-xFZwEpOD/lib/python3.9/site-packages (from alembic>=1.7.5->prefect>=2.6.0->prefect-dask) (1.2.4)\n"
     ]
    },
    {
     "name": "stdout",
     "output_type": "stream",
     "text": [
      "Requirement already satisfied: sniffio>=1.1 in /root/.local/share/virtualenvs/overview-xFZwEpOD/lib/python3.9/site-packages (from anyio>=3.4.0->prefect>=2.6.0->prefect-dask) (1.3.0)\n",
      "Requirement already satisfied: idna>=2.8 in /root/.local/share/virtualenvs/overview-xFZwEpOD/lib/python3.9/site-packages (from anyio>=3.4.0->prefect>=2.6.0->prefect-dask) (3.4)\n",
      "Requirement already satisfied: certifi in /root/.local/share/virtualenvs/overview-xFZwEpOD/lib/python3.9/site-packages (from apprise>=1.1.0->prefect>=2.6.0->prefect-dask) (2022.12.7)\n",
      "Requirement already satisfied: requests-oauthlib in /root/.local/share/virtualenvs/overview-xFZwEpOD/lib/python3.9/site-packages (from apprise>=1.1.0->prefect>=2.6.0->prefect-dask) (1.3.1)\n",
      "Requirement already satisfied: markdown in /root/.local/share/virtualenvs/overview-xFZwEpOD/lib/python3.9/site-packages (from apprise>=1.1.0->prefect>=2.6.0->prefect-dask) (3.4.1)\n",
      "Requirement already satisfied: requests in /root/.local/share/virtualenvs/overview-xFZwEpOD/lib/python3.9/site-packages (from apprise>=1.1.0->prefect>=2.6.0->prefect-dask) (2.28.1)\n",
      "Requirement already satisfied: python-dateutil in /root/.local/share/virtualenvs/overview-xFZwEpOD/lib/python3.9/site-packages (from croniter>=1.0.12->prefect>=2.6.0->prefect-dask) (2.8.2)\n",
      "Requirement already satisfied: cffi>=1.12 in /root/.local/share/virtualenvs/overview-xFZwEpOD/lib/python3.9/site-packages (from cryptography>=36.0.1->prefect>=2.6.0->prefect-dask) (1.15.1)\n",
      "Requirement already satisfied: websocket-client>=0.32.0 in /root/.local/share/virtualenvs/overview-xFZwEpOD/lib/python3.9/site-packages (from docker>=4.0->prefect>=2.6.0->prefect-dask) (1.4.2)\n",
      "Requirement already satisfied: starlette==0.22.0 in /root/.local/share/virtualenvs/overview-xFZwEpOD/lib/python3.9/site-packages (from fastapi>=0.70->prefect>=2.6.0->prefect-dask) (0.22.0)\n",
      "Requirement already satisfied: colorama>=0.4 in /root/.local/share/virtualenvs/overview-xFZwEpOD/lib/python3.9/site-packages (from griffe>=0.20.0->prefect>=2.6.0->prefect-dask) (0.4.6)\n",
      "Requirement already satisfied: httpcore<0.17.0,>=0.15.0 in /root/.local/share/virtualenvs/overview-xFZwEpOD/lib/python3.9/site-packages (from httpx[http2]>=0.23->prefect>=2.6.0->prefect-dask) (0.16.3)\n",
      "Requirement already satisfied: rfc3986[idna2008]<2,>=1.3 in /root/.local/share/virtualenvs/overview-xFZwEpOD/lib/python3.9/site-packages (from httpx[http2]>=0.23->prefect>=2.6.0->prefect-dask) (1.5.0)\n",
      "Requirement already satisfied: h2<5,>=3 in /root/.local/share/virtualenvs/overview-xFZwEpOD/lib/python3.9/site-packages (from httpx[http2]>=0.23->prefect>=2.6.0->prefect-dask) (4.1.0)\n",
      "Requirement already satisfied: zipp>=0.5 in /root/.local/share/virtualenvs/overview-xFZwEpOD/lib/python3.9/site-packages (from importlib-metadata>=4.4->prefect>=2.6.0->prefect-dask) (3.11.0)\n",
      "Requirement already satisfied: MarkupSafe>=2.0 in /root/.local/share/virtualenvs/overview-xFZwEpOD/lib/python3.9/site-packages (from jinja2->distributed>=2022.5.0->prefect-dask) (2.1.1)\n",
      "Requirement already satisfied: jsonpointer>=1.9 in /root/.local/share/virtualenvs/overview-xFZwEpOD/lib/python3.9/site-packages (from jsonpatch>=1.32->prefect>=2.6.0->prefect-dask) (2.3)\n",
      "Requirement already satisfied: setuptools>=21.0.0 in /root/.local/share/virtualenvs/overview-xFZwEpOD/lib/python3.9/site-packages (from kubernetes>=24.2.0->prefect>=2.6.0->prefect-dask) (65.6.3)\n",
      "Requirement already satisfied: six>=1.9.0 in /root/.local/share/virtualenvs/overview-xFZwEpOD/lib/python3.9/site-packages (from kubernetes>=24.2.0->prefect>=2.6.0->prefect-dask) (1.16.0)\n",
      "Requirement already satisfied: google-auth>=1.0.1 in /root/.local/share/virtualenvs/overview-xFZwEpOD/lib/python3.9/site-packages (from kubernetes>=24.2.0->prefect>=2.6.0->prefect-dask) (2.15.0)\n",
      "Requirement already satisfied: pytzdata>=2020.1 in /root/.local/share/virtualenvs/overview-xFZwEpOD/lib/python3.9/site-packages (from pendulum>=2.1.2->prefect>=2.6.0->prefect-dask) (2020.1)\n",
      "Requirement already satisfied: text-unidecode>=1.3 in /root/.local/share/virtualenvs/overview-xFZwEpOD/lib/python3.9/site-packages (from python-slugify>=5.0->prefect>=2.6.0->prefect-dask) (1.3)\n",
      "Requirement already satisfied: commonmark<0.10.0,>=0.9.0 in /root/.local/share/virtualenvs/overview-xFZwEpOD/lib/python3.9/site-packages (from rich>=11.0->prefect>=2.6.0->prefect-dask) (0.9.1)\n",
      "Requirement already satisfied: pygments<3.0.0,>=2.6.0 in /root/.local/share/virtualenvs/overview-xFZwEpOD/lib/python3.9/site-packages (from rich>=11.0->prefect>=2.6.0->prefect-dask) (2.13.0)\n",
      "Requirement already satisfied: greenlet!=0.4.17 in /root/.local/share/virtualenvs/overview-xFZwEpOD/lib/python3.9/site-packages (from sqlalchemy[asyncio]!=1.4.33,>=1.4.20->prefect>=2.6.0->prefect-dask) (2.0.1)\n",
      "Requirement already satisfied: h11>=0.8 in /root/.local/share/virtualenvs/overview-xFZwEpOD/lib/python3.9/site-packages (from uvicorn>=0.14.0->prefect>=2.6.0->prefect-dask) (0.14.0)\n",
      "Collecting heapdict\n",
      "  Downloading HeapDict-1.0.1-py3-none-any.whl (3.9 kB)\n",
      "Requirement already satisfied: pycparser in /root/.local/share/virtualenvs/overview-xFZwEpOD/lib/python3.9/site-packages (from cffi>=1.12->cryptography>=36.0.1->prefect>=2.6.0->prefect-dask) (2.21)\n",
      "Requirement already satisfied: pyasn1-modules>=0.2.1 in /root/.local/share/virtualenvs/overview-xFZwEpOD/lib/python3.9/site-packages (from google-auth>=1.0.1->kubernetes>=24.2.0->prefect>=2.6.0->prefect-dask) (0.2.8)\n",
      "Requirement already satisfied: rsa<5,>=3.1.4 in /root/.local/share/virtualenvs/overview-xFZwEpOD/lib/python3.9/site-packages (from google-auth>=1.0.1->kubernetes>=24.2.0->prefect>=2.6.0->prefect-dask) (4.9)\n",
      "Requirement already satisfied: cachetools<6.0,>=2.0.0 in /root/.local/share/virtualenvs/overview-xFZwEpOD/lib/python3.9/site-packages (from google-auth>=1.0.1->kubernetes>=24.2.0->prefect>=2.6.0->prefect-dask) (5.2.0)\n",
      "Requirement already satisfied: hpack<5,>=4.0 in /root/.local/share/virtualenvs/overview-xFZwEpOD/lib/python3.9/site-packages (from h2<5,>=3->httpx[http2]>=0.23->prefect>=2.6.0->prefect-dask) (4.0.0)\n",
      "Requirement already satisfied: hyperframe<7,>=6.0 in /root/.local/share/virtualenvs/overview-xFZwEpOD/lib/python3.9/site-packages (from h2<5,>=3->httpx[http2]>=0.23->prefect>=2.6.0->prefect-dask) (6.0.1)\n",
      "Requirement already satisfied: charset-normalizer<3,>=2 in /root/.local/share/virtualenvs/overview-xFZwEpOD/lib/python3.9/site-packages (from requests->apprise>=1.1.0->prefect>=2.6.0->prefect-dask) (2.1.1)\n",
      "Requirement already satisfied: oauthlib>=3.0.0 in /root/.local/share/virtualenvs/overview-xFZwEpOD/lib/python3.9/site-packages (from requests-oauthlib->apprise>=1.1.0->prefect>=2.6.0->prefect-dask) (3.2.2)\n",
      "Requirement already satisfied: pyasn1<0.5.0,>=0.4.6 in /root/.local/share/virtualenvs/overview-xFZwEpOD/lib/python3.9/site-packages (from pyasn1-modules>=0.2.1->google-auth>=1.0.1->kubernetes>=24.2.0->prefect>=2.6.0->prefect-dask) (0.4.8)\n",
      "Installing collected packages: sortedcontainers, msgpack, heapdict, zict, toolz, tblib, locket, partd, dask, distributed, prefect-dask\n",
      "Successfully installed dask-2022.12.1 distributed-2022.12.1 heapdict-1.0.1 locket-1.0.0 msgpack-1.0.4 partd-1.3.0 prefect-dask-0.2.2 sortedcontainers-2.4.0 tblib-1.7.0 toolz-0.12.0 zict-2.2.0\n"
     ]
    }
   ],
   "source": [
    "!pip install prefect-dask"
   ]
  },
  {
   "cell_type": "code",
   "execution_count": 10,
   "metadata": {},
   "outputs": [
    {
     "name": "stderr",
     "output_type": "stream",
     "text": [
      "/root/.local/share/virtualenvs/overview-xFZwEpOD/lib/python3.9/site-packages/prefect/tasks.py:256: UserWarning: A task named 'Dask Task' and defined at '/tmp/ipykernel_101543/4008450591.py:3' conflicts with another task. Consider specifying a unique `name` parameter in the task definition:\n",
      "\n",
      " `@task(name='my_unique_name', ...)`\n",
      "  warnings.warn(\n",
      "/root/.local/share/virtualenvs/overview-xFZwEpOD/lib/python3.9/site-packages/prefect/flows.py:206: UserWarning: A flow named 'Dask Flow' and defined at '/tmp/ipykernel_101543/4008450591.py:9' conflicts with another flow. Consider specifying a unique `name` parameter in the flow definition:\n",
      "\n",
      " `@flow(name='my_unique_name', ...)`\n",
      "  warnings.warn(\n"
     ]
    },
    {
     "data": {
      "text/html": [
       "<pre style=\"white-space:pre;overflow-x:auto;line-height:normal;font-family:Menlo,'DejaVu Sans Mono',consolas,'Courier New',monospace\">22:43:21.537 | <span style=\"color: #008080; text-decoration-color: #008080\">INFO</span>    | prefect.engine - Created flow run<span style=\"color: #800080; text-decoration-color: #800080\"> 'resilient-kingfisher'</span> for flow<span style=\"color: #800080; text-decoration-color: #800080; font-weight: bold\"> 'Dask Flow'</span>\n",
       "</pre>\n"
      ],
      "text/plain": [
       "22:43:21.537 | \u001b[36mINFO\u001b[0m    | prefect.engine - Created flow run\u001b[35m 'resilient-kingfisher'\u001b[0m for flow\u001b[1;35m 'Dask Flow'\u001b[0m\n"
      ]
     },
     "metadata": {},
     "output_type": "display_data"
    },
    {
     "data": {
      "text/html": [
       "<pre style=\"white-space:pre;overflow-x:auto;line-height:normal;font-family:Menlo,'DejaVu Sans Mono',consolas,'Courier New',monospace\">22:43:21.544 | <span style=\"color: #008080; text-decoration-color: #008080\">INFO</span>    | prefect.task_runner.dask - Creating a new Dask cluster with `distributed.deploy.local.LocalCluster`\n",
       "</pre>\n"
      ],
      "text/plain": [
       "22:43:21.544 | \u001b[36mINFO\u001b[0m    | prefect.task_runner.dask - Creating a new Dask cluster with `distributed.deploy.local.LocalCluster`\n"
      ]
     },
     "metadata": {},
     "output_type": "display_data"
    },
    {
     "data": {
      "text/html": [
       "<pre style=\"white-space:pre;overflow-x:auto;line-height:normal;font-family:Menlo,'DejaVu Sans Mono',consolas,'Courier New',monospace\">22:43:21.558 | <span style=\"color: #008080; text-decoration-color: #008080\">INFO</span>    | distributed.scheduler - State start\n",
       "</pre>\n"
      ],
      "text/plain": [
       "22:43:21.558 | \u001b[36mINFO\u001b[0m    | distributed.scheduler - State start\n"
      ]
     },
     "metadata": {},
     "output_type": "display_data"
    },
    {
     "data": {
      "text/html": [
       "<pre style=\"white-space:pre;overflow-x:auto;line-height:normal;font-family:Menlo,'DejaVu Sans Mono',consolas,'Courier New',monospace\">22:43:21.573 | <span style=\"color: #008080; text-decoration-color: #008080\">INFO</span>    | distributed.scheduler -   Scheduler at:     tcp://127.0.0.1:35471\n",
       "</pre>\n"
      ],
      "text/plain": [
       "22:43:21.573 | \u001b[36mINFO\u001b[0m    | distributed.scheduler -   Scheduler at:     tcp://127.0.0.1:35471\n"
      ]
     },
     "metadata": {},
     "output_type": "display_data"
    },
    {
     "data": {
      "text/html": [
       "<pre style=\"white-space:pre;overflow-x:auto;line-height:normal;font-family:Menlo,'DejaVu Sans Mono',consolas,'Courier New',monospace\">22:43:21.576 | <span style=\"color: #008080; text-decoration-color: #008080\">INFO</span>    | distributed.scheduler -   dashboard at:            127.0.0.1:8787\n",
       "</pre>\n"
      ],
      "text/plain": [
       "22:43:21.576 | \u001b[36mINFO\u001b[0m    | distributed.scheduler -   dashboard at:            127.0.0.1:8787\n"
      ]
     },
     "metadata": {},
     "output_type": "display_data"
    },
    {
     "data": {
      "text/html": [
       "<pre style=\"white-space:pre;overflow-x:auto;line-height:normal;font-family:Menlo,'DejaVu Sans Mono',consolas,'Courier New',monospace\">22:43:21.611 | <span style=\"color: #008080; text-decoration-color: #008080\">INFO</span>    | distributed.nanny -         Start Nanny at: 'tcp://127.0.0.1:33073'\n",
       "</pre>\n"
      ],
      "text/plain": [
       "22:43:21.611 | \u001b[36mINFO\u001b[0m    | distributed.nanny -         Start Nanny at: 'tcp://127.0.0.1:33073'\n"
      ]
     },
     "metadata": {},
     "output_type": "display_data"
    },
    {
     "data": {
      "text/html": [
       "<pre style=\"white-space:pre;overflow-x:auto;line-height:normal;font-family:Menlo,'DejaVu Sans Mono',consolas,'Courier New',monospace\">22:43:21.619 | <span style=\"color: #008080; text-decoration-color: #008080\">INFO</span>    | distributed.nanny -         Start Nanny at: 'tcp://127.0.0.1:36671'\n",
       "</pre>\n"
      ],
      "text/plain": [
       "22:43:21.619 | \u001b[36mINFO\u001b[0m    | distributed.nanny -         Start Nanny at: 'tcp://127.0.0.1:36671'\n"
      ]
     },
     "metadata": {},
     "output_type": "display_data"
    },
    {
     "data": {
      "text/html": [
       "<pre style=\"white-space:pre;overflow-x:auto;line-height:normal;font-family:Menlo,'DejaVu Sans Mono',consolas,'Courier New',monospace\">22:43:21.638 | <span style=\"color: #008080; text-decoration-color: #008080\">INFO</span>    | distributed.nanny -         Start Nanny at: 'tcp://127.0.0.1:43413'\n",
       "</pre>\n"
      ],
      "text/plain": [
       "22:43:21.638 | \u001b[36mINFO\u001b[0m    | distributed.nanny -         Start Nanny at: 'tcp://127.0.0.1:43413'\n"
      ]
     },
     "metadata": {},
     "output_type": "display_data"
    },
    {
     "data": {
      "text/html": [
       "<pre style=\"white-space:pre;overflow-x:auto;line-height:normal;font-family:Menlo,'DejaVu Sans Mono',consolas,'Courier New',monospace\">22:43:21.657 | <span style=\"color: #008080; text-decoration-color: #008080\">INFO</span>    | distributed.nanny -         Start Nanny at: 'tcp://127.0.0.1:33595'\n",
       "</pre>\n"
      ],
      "text/plain": [
       "22:43:21.657 | \u001b[36mINFO\u001b[0m    | distributed.nanny -         Start Nanny at: 'tcp://127.0.0.1:33595'\n"
      ]
     },
     "metadata": {},
     "output_type": "display_data"
    },
    {
     "data": {
      "text/html": [
       "<pre style=\"white-space:pre;overflow-x:auto;line-height:normal;font-family:Menlo,'DejaVu Sans Mono',consolas,'Courier New',monospace\">22:43:22.815 | <span style=\"color: #008080; text-decoration-color: #008080\">INFO</span>    | distributed.scheduler - Register worker &lt;WorkerState 'tcp://127.0.0.1:43703', name: 2, status: init, memory: 0, processing: 0&gt;\n",
       "</pre>\n"
      ],
      "text/plain": [
       "22:43:22.815 | \u001b[36mINFO\u001b[0m    | distributed.scheduler - Register worker <WorkerState 'tcp://127.0.0.1:43703', name: 2, status: init, memory: 0, processing: 0>\n"
      ]
     },
     "metadata": {},
     "output_type": "display_data"
    },
    {
     "data": {
      "text/html": [
       "<pre style=\"white-space:pre;overflow-x:auto;line-height:normal;font-family:Menlo,'DejaVu Sans Mono',consolas,'Courier New',monospace\">22:43:22.820 | <span style=\"color: #008080; text-decoration-color: #008080\">INFO</span>    | distributed.scheduler - Starting worker compute stream, tcp://127.0.0.1:43703\n",
       "</pre>\n"
      ],
      "text/plain": [
       "22:43:22.820 | \u001b[36mINFO\u001b[0m    | distributed.scheduler - Starting worker compute stream, tcp://127.0.0.1:43703\n"
      ]
     },
     "metadata": {},
     "output_type": "display_data"
    },
    {
     "data": {
      "text/html": [
       "<pre style=\"white-space:pre;overflow-x:auto;line-height:normal;font-family:Menlo,'DejaVu Sans Mono',consolas,'Courier New',monospace\">22:43:22.822 | <span style=\"color: #008080; text-decoration-color: #008080\">INFO</span>    | distributed.core - Starting established connection to tcp://127.0.0.1:40882\n",
       "</pre>\n"
      ],
      "text/plain": [
       "22:43:22.822 | \u001b[36mINFO\u001b[0m    | distributed.core - Starting established connection to tcp://127.0.0.1:40882\n"
      ]
     },
     "metadata": {},
     "output_type": "display_data"
    },
    {
     "data": {
      "text/html": [
       "<pre style=\"white-space:pre;overflow-x:auto;line-height:normal;font-family:Menlo,'DejaVu Sans Mono',consolas,'Courier New',monospace\">22:43:22.828 | <span style=\"color: #008080; text-decoration-color: #008080\">INFO</span>    | distributed.scheduler - Register worker &lt;WorkerState 'tcp://127.0.0.1:42413', name: 1, status: init, memory: 0, processing: 0&gt;\n",
       "</pre>\n"
      ],
      "text/plain": [
       "22:43:22.828 | \u001b[36mINFO\u001b[0m    | distributed.scheduler - Register worker <WorkerState 'tcp://127.0.0.1:42413', name: 1, status: init, memory: 0, processing: 0>\n"
      ]
     },
     "metadata": {},
     "output_type": "display_data"
    },
    {
     "data": {
      "text/html": [
       "<pre style=\"white-space:pre;overflow-x:auto;line-height:normal;font-family:Menlo,'DejaVu Sans Mono',consolas,'Courier New',monospace\">22:43:22.832 | <span style=\"color: #008080; text-decoration-color: #008080\">INFO</span>    | distributed.scheduler - Starting worker compute stream, tcp://127.0.0.1:42413\n",
       "</pre>\n"
      ],
      "text/plain": [
       "22:43:22.832 | \u001b[36mINFO\u001b[0m    | distributed.scheduler - Starting worker compute stream, tcp://127.0.0.1:42413\n"
      ]
     },
     "metadata": {},
     "output_type": "display_data"
    },
    {
     "data": {
      "text/html": [
       "<pre style=\"white-space:pre;overflow-x:auto;line-height:normal;font-family:Menlo,'DejaVu Sans Mono',consolas,'Courier New',monospace\">22:43:22.835 | <span style=\"color: #008080; text-decoration-color: #008080\">INFO</span>    | distributed.core - Starting established connection to tcp://127.0.0.1:40878\n",
       "</pre>\n"
      ],
      "text/plain": [
       "22:43:22.835 | \u001b[36mINFO\u001b[0m    | distributed.core - Starting established connection to tcp://127.0.0.1:40878\n"
      ]
     },
     "metadata": {},
     "output_type": "display_data"
    },
    {
     "data": {
      "text/html": [
       "<pre style=\"white-space:pre;overflow-x:auto;line-height:normal;font-family:Menlo,'DejaVu Sans Mono',consolas,'Courier New',monospace\">22:43:22.860 | <span style=\"color: #008080; text-decoration-color: #008080\">INFO</span>    | distributed.scheduler - Register worker &lt;WorkerState 'tcp://127.0.0.1:33187', name: 0, status: init, memory: 0, processing: 0&gt;\n",
       "</pre>\n"
      ],
      "text/plain": [
       "22:43:22.860 | \u001b[36mINFO\u001b[0m    | distributed.scheduler - Register worker <WorkerState 'tcp://127.0.0.1:33187', name: 0, status: init, memory: 0, processing: 0>\n"
      ]
     },
     "metadata": {},
     "output_type": "display_data"
    },
    {
     "data": {
      "text/html": [
       "<pre style=\"white-space:pre;overflow-x:auto;line-height:normal;font-family:Menlo,'DejaVu Sans Mono',consolas,'Courier New',monospace\">22:43:22.863 | <span style=\"color: #008080; text-decoration-color: #008080\">INFO</span>    | distributed.scheduler - Starting worker compute stream, tcp://127.0.0.1:33187\n",
       "</pre>\n"
      ],
      "text/plain": [
       "22:43:22.863 | \u001b[36mINFO\u001b[0m    | distributed.scheduler - Starting worker compute stream, tcp://127.0.0.1:33187\n"
      ]
     },
     "metadata": {},
     "output_type": "display_data"
    },
    {
     "data": {
      "text/html": [
       "<pre style=\"white-space:pre;overflow-x:auto;line-height:normal;font-family:Menlo,'DejaVu Sans Mono',consolas,'Courier New',monospace\">22:43:22.866 | <span style=\"color: #008080; text-decoration-color: #008080\">INFO</span>    | distributed.core - Starting established connection to tcp://127.0.0.1:40886\n",
       "</pre>\n"
      ],
      "text/plain": [
       "22:43:22.866 | \u001b[36mINFO\u001b[0m    | distributed.core - Starting established connection to tcp://127.0.0.1:40886\n"
      ]
     },
     "metadata": {},
     "output_type": "display_data"
    },
    {
     "data": {
      "text/html": [
       "<pre style=\"white-space:pre;overflow-x:auto;line-height:normal;font-family:Menlo,'DejaVu Sans Mono',consolas,'Courier New',monospace\">22:43:22.887 | <span style=\"color: #008080; text-decoration-color: #008080\">INFO</span>    | distributed.scheduler - Register worker &lt;WorkerState 'tcp://127.0.0.1:32999', name: 3, status: init, memory: 0, processing: 0&gt;\n",
       "</pre>\n"
      ],
      "text/plain": [
       "22:43:22.887 | \u001b[36mINFO\u001b[0m    | distributed.scheduler - Register worker <WorkerState 'tcp://127.0.0.1:32999', name: 3, status: init, memory: 0, processing: 0>\n"
      ]
     },
     "metadata": {},
     "output_type": "display_data"
    },
    {
     "data": {
      "text/html": [
       "<pre style=\"white-space:pre;overflow-x:auto;line-height:normal;font-family:Menlo,'DejaVu Sans Mono',consolas,'Courier New',monospace\">22:43:22.890 | <span style=\"color: #008080; text-decoration-color: #008080\">INFO</span>    | distributed.scheduler - Starting worker compute stream, tcp://127.0.0.1:32999\n",
       "</pre>\n"
      ],
      "text/plain": [
       "22:43:22.890 | \u001b[36mINFO\u001b[0m    | distributed.scheduler - Starting worker compute stream, tcp://127.0.0.1:32999\n"
      ]
     },
     "metadata": {},
     "output_type": "display_data"
    },
    {
     "data": {
      "text/html": [
       "<pre style=\"white-space:pre;overflow-x:auto;line-height:normal;font-family:Menlo,'DejaVu Sans Mono',consolas,'Courier New',monospace\">22:43:22.894 | <span style=\"color: #008080; text-decoration-color: #008080\">INFO</span>    | distributed.core - Starting established connection to tcp://127.0.0.1:40900\n",
       "</pre>\n"
      ],
      "text/plain": [
       "22:43:22.894 | \u001b[36mINFO\u001b[0m    | distributed.core - Starting established connection to tcp://127.0.0.1:40900\n"
      ]
     },
     "metadata": {},
     "output_type": "display_data"
    },
    {
     "data": {
      "text/html": [
       "<pre style=\"white-space:pre;overflow-x:auto;line-height:normal;font-family:Menlo,'DejaVu Sans Mono',consolas,'Courier New',monospace\">22:43:22.927 | <span style=\"color: #008080; text-decoration-color: #008080\">INFO</span>    | distributed.scheduler - Receive client connection: Client-03995eec-8651-11ed-8ca7-3778209bdeb0\n",
       "</pre>\n"
      ],
      "text/plain": [
       "22:43:22.927 | \u001b[36mINFO\u001b[0m    | distributed.scheduler - Receive client connection: Client-03995eec-8651-11ed-8ca7-3778209bdeb0\n"
      ]
     },
     "metadata": {},
     "output_type": "display_data"
    },
    {
     "data": {
      "text/html": [
       "<pre style=\"white-space:pre;overflow-x:auto;line-height:normal;font-family:Menlo,'DejaVu Sans Mono',consolas,'Courier New',monospace\">22:43:22.929 | <span style=\"color: #008080; text-decoration-color: #008080\">INFO</span>    | distributed.core - Starting established connection to tcp://127.0.0.1:40906\n",
       "</pre>\n"
      ],
      "text/plain": [
       "22:43:22.929 | \u001b[36mINFO\u001b[0m    | distributed.core - Starting established connection to tcp://127.0.0.1:40906\n"
      ]
     },
     "metadata": {},
     "output_type": "display_data"
    },
    {
     "data": {
      "text/html": [
       "<pre style=\"white-space:pre;overflow-x:auto;line-height:normal;font-family:Menlo,'DejaVu Sans Mono',consolas,'Courier New',monospace\">22:43:22.937 | <span style=\"color: #008080; text-decoration-color: #008080\">INFO</span>    | prefect.task_runner.dask - The Dask dashboard is available at <span style=\"color: #0000ff; text-decoration-color: #0000ff\">http://127.0.0.1:8787/status</span>\n",
       "</pre>\n"
      ],
      "text/plain": [
       "22:43:22.937 | \u001b[36mINFO\u001b[0m    | prefect.task_runner.dask - The Dask dashboard is available at \u001b[94mhttp://127.0.0.1:8787/status\u001b[0m\n"
      ]
     },
     "metadata": {},
     "output_type": "display_data"
    },
    {
     "data": {
      "text/html": [
       "<pre style=\"white-space:pre;overflow-x:auto;line-height:normal;font-family:Menlo,'DejaVu Sans Mono',consolas,'Courier New',monospace\">22:43:23.744 | <span style=\"color: #008080; text-decoration-color: #008080\">INFO</span>    | Flow run<span style=\"color: #800080; text-decoration-color: #800080\"> 'resilient-kingfisher'</span> - Created task run 'Dask Task-0bb9a2c3-0' for task 'Dask Task'\n",
       "</pre>\n"
      ],
      "text/plain": [
       "22:43:23.744 | \u001b[36mINFO\u001b[0m    | Flow run\u001b[35m 'resilient-kingfisher'\u001b[0m - Created task run 'Dask Task-0bb9a2c3-0' for task 'Dask Task'\n"
      ]
     },
     "metadata": {},
     "output_type": "display_data"
    },
    {
     "data": {
      "text/html": [
       "<pre style=\"white-space:pre;overflow-x:auto;line-height:normal;font-family:Menlo,'DejaVu Sans Mono',consolas,'Courier New',monospace\">22:43:23.770 | <span style=\"color: #008080; text-decoration-color: #008080\">INFO</span>    | Flow run<span style=\"color: #800080; text-decoration-color: #800080\"> 'resilient-kingfisher'</span> - Submitted task run 'Dask Task-0bb9a2c3-0' for execution.\n",
       "</pre>\n"
      ],
      "text/plain": [
       "22:43:23.770 | \u001b[36mINFO\u001b[0m    | Flow run\u001b[35m 'resilient-kingfisher'\u001b[0m - Submitted task run 'Dask Task-0bb9a2c3-0' for execution.\n"
      ]
     },
     "metadata": {},
     "output_type": "display_data"
    },
    {
     "data": {
      "text/html": [
       "<pre style=\"white-space:pre;overflow-x:auto;line-height:normal;font-family:Menlo,'DejaVu Sans Mono',consolas,'Courier New',monospace\">22:43:23.918 | <span style=\"color: #008080; text-decoration-color: #008080\">INFO</span>    | Flow run<span style=\"color: #800080; text-decoration-color: #800080\"> 'resilient-kingfisher'</span> - Created task run 'Dask Task-0bb9a2c3-1' for task 'Dask Task'\n",
       "</pre>\n"
      ],
      "text/plain": [
       "22:43:23.918 | \u001b[36mINFO\u001b[0m    | Flow run\u001b[35m 'resilient-kingfisher'\u001b[0m - Created task run 'Dask Task-0bb9a2c3-1' for task 'Dask Task'\n"
      ]
     },
     "metadata": {},
     "output_type": "display_data"
    },
    {
     "data": {
      "text/html": [
       "<pre style=\"white-space:pre;overflow-x:auto;line-height:normal;font-family:Menlo,'DejaVu Sans Mono',consolas,'Courier New',monospace\">22:43:23.925 | <span style=\"color: #008080; text-decoration-color: #008080\">INFO</span>    | Flow run<span style=\"color: #800080; text-decoration-color: #800080\"> 'resilient-kingfisher'</span> - Submitted task run 'Dask Task-0bb9a2c3-1' for execution.\n",
       "</pre>\n"
      ],
      "text/plain": [
       "22:43:23.925 | \u001b[36mINFO\u001b[0m    | Flow run\u001b[35m 'resilient-kingfisher'\u001b[0m - Submitted task run 'Dask Task-0bb9a2c3-1' for execution.\n"
      ]
     },
     "metadata": {},
     "output_type": "display_data"
    },
    {
     "name": "stderr",
     "output_type": "stream",
     "text": [
      "22:43:32.048 | \u001b[36mINFO\u001b[0m    | Task run 'Dask Task-0bb9a2c3-1' - Finished in state \u001b[32mCompleted\u001b[0m()\n",
      "22:43:34.646 | \u001b[36mINFO\u001b[0m    | Task run 'Dask Task-0bb9a2c3-0' - Finished in state \u001b[32mCompleted\u001b[0m()\n"
     ]
    },
    {
     "data": {
      "text/html": [
       "<pre style=\"white-space:pre;overflow-x:auto;line-height:normal;font-family:Menlo,'DejaVu Sans Mono',consolas,'Courier New',monospace\">22:43:34.965 | <span style=\"color: #008080; text-decoration-color: #008080\">INFO</span>    | distributed.scheduler - Remove client Client-03995eec-8651-11ed-8ca7-3778209bdeb0\n",
       "</pre>\n"
      ],
      "text/plain": [
       "22:43:34.965 | \u001b[36mINFO\u001b[0m    | distributed.scheduler - Remove client Client-03995eec-8651-11ed-8ca7-3778209bdeb0\n"
      ]
     },
     "metadata": {},
     "output_type": "display_data"
    },
    {
     "data": {
      "text/html": [
       "<pre style=\"white-space:pre;overflow-x:auto;line-height:normal;font-family:Menlo,'DejaVu Sans Mono',consolas,'Courier New',monospace\">22:43:34.967 | <span style=\"color: #008080; text-decoration-color: #008080\">INFO</span>    | distributed.core - Received 'close-stream' from tcp://127.0.0.1:40906; closing.\n",
       "</pre>\n"
      ],
      "text/plain": [
       "22:43:34.967 | \u001b[36mINFO\u001b[0m    | distributed.core - Received 'close-stream' from tcp://127.0.0.1:40906; closing.\n"
      ]
     },
     "metadata": {},
     "output_type": "display_data"
    },
    {
     "data": {
      "text/html": [
       "<pre style=\"white-space:pre;overflow-x:auto;line-height:normal;font-family:Menlo,'DejaVu Sans Mono',consolas,'Courier New',monospace\">22:43:34.970 | <span style=\"color: #008080; text-decoration-color: #008080\">INFO</span>    | distributed.scheduler - Remove client Client-03995eec-8651-11ed-8ca7-3778209bdeb0\n",
       "</pre>\n"
      ],
      "text/plain": [
       "22:43:34.970 | \u001b[36mINFO\u001b[0m    | distributed.scheduler - Remove client Client-03995eec-8651-11ed-8ca7-3778209bdeb0\n"
      ]
     },
     "metadata": {},
     "output_type": "display_data"
    },
    {
     "data": {
      "text/html": [
       "<pre style=\"white-space:pre;overflow-x:auto;line-height:normal;font-family:Menlo,'DejaVu Sans Mono',consolas,'Courier New',monospace\">22:43:34.975 | <span style=\"color: #008080; text-decoration-color: #008080\">INFO</span>    | distributed.scheduler - Close client connection: Client-03995eec-8651-11ed-8ca7-3778209bdeb0\n",
       "</pre>\n"
      ],
      "text/plain": [
       "22:43:34.975 | \u001b[36mINFO\u001b[0m    | distributed.scheduler - Close client connection: Client-03995eec-8651-11ed-8ca7-3778209bdeb0\n"
      ]
     },
     "metadata": {},
     "output_type": "display_data"
    },
    {
     "data": {
      "text/html": [
       "<pre style=\"white-space:pre;overflow-x:auto;line-height:normal;font-family:Menlo,'DejaVu Sans Mono',consolas,'Courier New',monospace\">22:43:34.979 | <span style=\"color: #008080; text-decoration-color: #008080\">INFO</span>    | distributed.nanny - Closing Nanny at 'tcp://127.0.0.1:33073'. Reason: nanny-close\n",
       "</pre>\n"
      ],
      "text/plain": [
       "22:43:34.979 | \u001b[36mINFO\u001b[0m    | distributed.nanny - Closing Nanny at 'tcp://127.0.0.1:33073'. Reason: nanny-close\n"
      ]
     },
     "metadata": {},
     "output_type": "display_data"
    },
    {
     "data": {
      "text/html": [
       "<pre style=\"white-space:pre;overflow-x:auto;line-height:normal;font-family:Menlo,'DejaVu Sans Mono',consolas,'Courier New',monospace\">22:43:34.981 | <span style=\"color: #008080; text-decoration-color: #008080\">INFO</span>    | distributed.nanny - Nanny asking worker to close. Reason: nanny-close\n",
       "</pre>\n"
      ],
      "text/plain": [
       "22:43:34.981 | \u001b[36mINFO\u001b[0m    | distributed.nanny - Nanny asking worker to close. Reason: nanny-close\n"
      ]
     },
     "metadata": {},
     "output_type": "display_data"
    },
    {
     "data": {
      "text/html": [
       "<pre style=\"white-space:pre;overflow-x:auto;line-height:normal;font-family:Menlo,'DejaVu Sans Mono',consolas,'Courier New',monospace\">22:43:34.983 | <span style=\"color: #008080; text-decoration-color: #008080\">INFO</span>    | distributed.nanny - Closing Nanny at 'tcp://127.0.0.1:36671'. Reason: nanny-close\n",
       "</pre>\n"
      ],
      "text/plain": [
       "22:43:34.983 | \u001b[36mINFO\u001b[0m    | distributed.nanny - Closing Nanny at 'tcp://127.0.0.1:36671'. Reason: nanny-close\n"
      ]
     },
     "metadata": {},
     "output_type": "display_data"
    },
    {
     "name": "stderr",
     "output_type": "stream",
     "text": [
      "22:43:34.984 | \u001b[36mINFO\u001b[0m    | distributed.worker - Stopping worker at tcp://127.0.0.1:33187. Reason: nanny-close\n"
     ]
    },
    {
     "data": {
      "text/html": [
       "<pre style=\"white-space:pre;overflow-x:auto;line-height:normal;font-family:Menlo,'DejaVu Sans Mono',consolas,'Courier New',monospace\">22:43:34.985 | <span style=\"color: #008080; text-decoration-color: #008080\">INFO</span>    | distributed.nanny - Nanny asking worker to close. Reason: nanny-close\n",
       "</pre>\n"
      ],
      "text/plain": [
       "22:43:34.985 | \u001b[36mINFO\u001b[0m    | distributed.nanny - Nanny asking worker to close. Reason: nanny-close\n"
      ]
     },
     "metadata": {},
     "output_type": "display_data"
    },
    {
     "name": "stderr",
     "output_type": "stream",
     "text": [
      "22:43:34.986 | \u001b[36mINFO\u001b[0m    | distributed.core - Connection to tcp://127.0.0.1:35471 has been closed.\n"
     ]
    },
    {
     "data": {
      "text/html": [
       "<pre style=\"white-space:pre;overflow-x:auto;line-height:normal;font-family:Menlo,'DejaVu Sans Mono',consolas,'Courier New',monospace\">22:43:34.987 | <span style=\"color: #008080; text-decoration-color: #008080\">INFO</span>    | distributed.nanny - Closing Nanny at 'tcp://127.0.0.1:43413'. Reason: nanny-close\n",
       "</pre>\n"
      ],
      "text/plain": [
       "22:43:34.987 | \u001b[36mINFO\u001b[0m    | distributed.nanny - Closing Nanny at 'tcp://127.0.0.1:43413'. Reason: nanny-close\n"
      ]
     },
     "metadata": {},
     "output_type": "display_data"
    },
    {
     "data": {
      "text/html": [
       "<pre style=\"white-space:pre;overflow-x:auto;line-height:normal;font-family:Menlo,'DejaVu Sans Mono',consolas,'Courier New',monospace\">22:43:34.992 | <span style=\"color: #008080; text-decoration-color: #008080\">INFO</span>    | distributed.nanny - Nanny asking worker to close. Reason: nanny-close\n",
       "</pre>\n"
      ],
      "text/plain": [
       "22:43:34.992 | \u001b[36mINFO\u001b[0m    | distributed.nanny - Nanny asking worker to close. Reason: nanny-close\n"
      ]
     },
     "metadata": {},
     "output_type": "display_data"
    },
    {
     "name": "stdout",
     "output_type": "stream",
     "text": [
      "BBBB\r",
      "BBBB\r",
      "BBBB\r",
      "BBBB\r",
      "BBBB\r",
      "BBBB\r",
      "BBBB\r",
      "BBBB\r",
      "BBBB\r",
      "BBBB\r"
     ]
    },
    {
     "data": {
      "text/html": [
       "<pre style=\"white-space:pre;overflow-x:auto;line-height:normal;font-family:Menlo,'DejaVu Sans Mono',consolas,'Courier New',monospace\">22:43:34.995 | <span style=\"color: #008080; text-decoration-color: #008080\">INFO</span>    | distributed.nanny - Closing Nanny at 'tcp://127.0.0.1:33595'. Reason: nanny-close\n",
       "</pre>\n"
      ],
      "text/plain": [
       "22:43:34.995 | \u001b[36mINFO\u001b[0m    | distributed.nanny - Closing Nanny at 'tcp://127.0.0.1:33595'. Reason: nanny-close\n"
      ]
     },
     "metadata": {},
     "output_type": "display_data"
    },
    {
     "data": {
      "text/html": [
       "<pre style=\"white-space:pre;overflow-x:auto;line-height:normal;font-family:Menlo,'DejaVu Sans Mono',consolas,'Courier New',monospace\">22:43:35.000 | <span style=\"color: #008080; text-decoration-color: #008080\">INFO</span>    | distributed.nanny - Nanny asking worker to close. Reason: nanny-close\n",
       "</pre>\n"
      ],
      "text/plain": [
       "22:43:35.000 | \u001b[36mINFO\u001b[0m    | distributed.nanny - Nanny asking worker to close. Reason: nanny-close\n"
      ]
     },
     "metadata": {},
     "output_type": "display_data"
    },
    {
     "name": "stderr",
     "output_type": "stream",
     "text": [
      "22:43:35.008 | \u001b[36mINFO\u001b[0m    | distributed.worker - Stopping worker at tcp://127.0.0.1:32999. Reason: nanny-close\n",
      "22:43:35.012 | \u001b[36mINFO\u001b[0m    | distributed.core - Connection to tcp://127.0.0.1:35471 has been closed.\n"
     ]
    },
    {
     "data": {
      "text/html": [
       "<pre style=\"white-space:pre;overflow-x:auto;line-height:normal;font-family:Menlo,'DejaVu Sans Mono',consolas,'Courier New',monospace\">22:43:35.017 | <span style=\"color: #008080; text-decoration-color: #008080\">INFO</span>    | distributed.core - Received 'close-stream' from tcp://127.0.0.1:40886; closing.\n",
       "</pre>\n"
      ],
      "text/plain": [
       "22:43:35.017 | \u001b[36mINFO\u001b[0m    | distributed.core - Received 'close-stream' from tcp://127.0.0.1:40886; closing.\n"
      ]
     },
     "metadata": {},
     "output_type": "display_data"
    },
    {
     "data": {
      "text/html": [
       "<pre style=\"white-space:pre;overflow-x:auto;line-height:normal;font-family:Menlo,'DejaVu Sans Mono',consolas,'Courier New',monospace\">22:43:35.026 | <span style=\"color: #008080; text-decoration-color: #008080\">INFO</span>    | distributed.core - Received 'close-stream' from tcp://127.0.0.1:40878; closing.\n",
       "</pre>\n"
      ],
      "text/plain": [
       "22:43:35.026 | \u001b[36mINFO\u001b[0m    | distributed.core - Received 'close-stream' from tcp://127.0.0.1:40878; closing.\n"
      ]
     },
     "metadata": {},
     "output_type": "display_data"
    },
    {
     "data": {
      "text/html": [
       "<pre style=\"white-space:pre;overflow-x:auto;line-height:normal;font-family:Menlo,'DejaVu Sans Mono',consolas,'Courier New',monospace\">22:43:35.030 | <span style=\"color: #008080; text-decoration-color: #008080\">INFO</span>    | distributed.core - Received 'close-stream' from tcp://127.0.0.1:40882; closing.\n",
       "</pre>\n"
      ],
      "text/plain": [
       "22:43:35.030 | \u001b[36mINFO\u001b[0m    | distributed.core - Received 'close-stream' from tcp://127.0.0.1:40882; closing.\n"
      ]
     },
     "metadata": {},
     "output_type": "display_data"
    },
    {
     "data": {
      "text/html": [
       "<pre style=\"white-space:pre;overflow-x:auto;line-height:normal;font-family:Menlo,'DejaVu Sans Mono',consolas,'Courier New',monospace\">22:43:35.038 | <span style=\"color: #008080; text-decoration-color: #008080\">INFO</span>    | distributed.scheduler - Remove worker &lt;WorkerState 'tcp://127.0.0.1:33187', name: 0, status: closing, memory: 0, processing: 0&gt;\n",
       "</pre>\n"
      ],
      "text/plain": [
       "22:43:35.038 | \u001b[36mINFO\u001b[0m    | distributed.scheduler - Remove worker <WorkerState 'tcp://127.0.0.1:33187', name: 0, status: closing, memory: 0, processing: 0>\n"
      ]
     },
     "metadata": {},
     "output_type": "display_data"
    },
    {
     "data": {
      "text/html": [
       "<pre style=\"white-space:pre;overflow-x:auto;line-height:normal;font-family:Menlo,'DejaVu Sans Mono',consolas,'Courier New',monospace\">22:43:35.045 | <span style=\"color: #008080; text-decoration-color: #008080\">INFO</span>    | distributed.core - Removing comms to tcp://127.0.0.1:33187\n",
       "</pre>\n"
      ],
      "text/plain": [
       "22:43:35.045 | \u001b[36mINFO\u001b[0m    | distributed.core - Removing comms to tcp://127.0.0.1:33187\n"
      ]
     },
     "metadata": {},
     "output_type": "display_data"
    },
    {
     "name": "stdout",
     "output_type": "stream",
     "text": [
      "AAAA\r",
      "AAAA\r",
      "AAAA\r",
      "AAAA\r",
      "AAAA\r",
      "AAAA\r",
      "AAAA\r",
      "AAAA\r",
      "AAAA\r",
      "AAAA\r",
      "AAAA\r",
      "AAAA\r",
      "AAAA\r",
      "AAAA\r",
      "AAAA\r"
     ]
    },
    {
     "data": {
      "text/html": [
       "<pre style=\"white-space:pre;overflow-x:auto;line-height:normal;font-family:Menlo,'DejaVu Sans Mono',consolas,'Courier New',monospace\">22:43:35.058 | <span style=\"color: #008080; text-decoration-color: #008080\">INFO</span>    | distributed.scheduler - Remove worker &lt;WorkerState 'tcp://127.0.0.1:42413', name: 1, status: closing, memory: 0, processing: 0&gt;\n",
       "</pre>\n"
      ],
      "text/plain": [
       "22:43:35.058 | \u001b[36mINFO\u001b[0m    | distributed.scheduler - Remove worker <WorkerState 'tcp://127.0.0.1:42413', name: 1, status: closing, memory: 0, processing: 0>\n"
      ]
     },
     "metadata": {},
     "output_type": "display_data"
    },
    {
     "data": {
      "text/html": [
       "<pre style=\"white-space:pre;overflow-x:auto;line-height:normal;font-family:Menlo,'DejaVu Sans Mono',consolas,'Courier New',monospace\">22:43:35.078 | <span style=\"color: #008080; text-decoration-color: #008080\">INFO</span>    | distributed.core - Removing comms to tcp://127.0.0.1:42413\n",
       "</pre>\n"
      ],
      "text/plain": [
       "22:43:35.078 | \u001b[36mINFO\u001b[0m    | distributed.core - Removing comms to tcp://127.0.0.1:42413\n"
      ]
     },
     "metadata": {},
     "output_type": "display_data"
    },
    {
     "data": {
      "text/html": [
       "<pre style=\"white-space:pre;overflow-x:auto;line-height:normal;font-family:Menlo,'DejaVu Sans Mono',consolas,'Courier New',monospace\">22:43:35.083 | <span style=\"color: #008080; text-decoration-color: #008080\">INFO</span>    | distributed.scheduler - Remove worker &lt;WorkerState 'tcp://127.0.0.1:43703', name: 2, status: closing, memory: 0, processing: 0&gt;\n",
       "</pre>\n"
      ],
      "text/plain": [
       "22:43:35.083 | \u001b[36mINFO\u001b[0m    | distributed.scheduler - Remove worker <WorkerState 'tcp://127.0.0.1:43703', name: 2, status: closing, memory: 0, processing: 0>\n"
      ]
     },
     "metadata": {},
     "output_type": "display_data"
    },
    {
     "data": {
      "text/html": [
       "<pre style=\"white-space:pre;overflow-x:auto;line-height:normal;font-family:Menlo,'DejaVu Sans Mono',consolas,'Courier New',monospace\">22:43:35.094 | <span style=\"color: #008080; text-decoration-color: #008080\">INFO</span>    | distributed.core - Removing comms to tcp://127.0.0.1:43703\n",
       "</pre>\n"
      ],
      "text/plain": [
       "22:43:35.094 | \u001b[36mINFO\u001b[0m    | distributed.core - Removing comms to tcp://127.0.0.1:43703\n"
      ]
     },
     "metadata": {},
     "output_type": "display_data"
    },
    {
     "data": {
      "text/html": [
       "<pre style=\"white-space:pre;overflow-x:auto;line-height:normal;font-family:Menlo,'DejaVu Sans Mono',consolas,'Courier New',monospace\">22:43:35.099 | <span style=\"color: #008080; text-decoration-color: #008080\">INFO</span>    | distributed.core - Received 'close-stream' from tcp://127.0.0.1:40900; closing.\n",
       "</pre>\n"
      ],
      "text/plain": [
       "22:43:35.099 | \u001b[36mINFO\u001b[0m    | distributed.core - Received 'close-stream' from tcp://127.0.0.1:40900; closing.\n"
      ]
     },
     "metadata": {},
     "output_type": "display_data"
    },
    {
     "data": {
      "text/html": [
       "<pre style=\"white-space:pre;overflow-x:auto;line-height:normal;font-family:Menlo,'DejaVu Sans Mono',consolas,'Courier New',monospace\">22:43:35.108 | <span style=\"color: #008080; text-decoration-color: #008080\">INFO</span>    | distributed.scheduler - Remove worker &lt;WorkerState 'tcp://127.0.0.1:32999', name: 3, status: closing, memory: 0, processing: 0&gt;\n",
       "</pre>\n"
      ],
      "text/plain": [
       "22:43:35.108 | \u001b[36mINFO\u001b[0m    | distributed.scheduler - Remove worker <WorkerState 'tcp://127.0.0.1:32999', name: 3, status: closing, memory: 0, processing: 0>\n"
      ]
     },
     "metadata": {},
     "output_type": "display_data"
    },
    {
     "data": {
      "text/html": [
       "<pre style=\"white-space:pre;overflow-x:auto;line-height:normal;font-family:Menlo,'DejaVu Sans Mono',consolas,'Courier New',monospace\">22:43:35.119 | <span style=\"color: #008080; text-decoration-color: #008080\">INFO</span>    | distributed.core - Removing comms to tcp://127.0.0.1:32999\n",
       "</pre>\n"
      ],
      "text/plain": [
       "22:43:35.119 | \u001b[36mINFO\u001b[0m    | distributed.core - Removing comms to tcp://127.0.0.1:32999\n"
      ]
     },
     "metadata": {},
     "output_type": "display_data"
    },
    {
     "data": {
      "text/html": [
       "<pre style=\"white-space:pre;overflow-x:auto;line-height:normal;font-family:Menlo,'DejaVu Sans Mono',consolas,'Courier New',monospace\">22:43:35.127 | <span style=\"color: #008080; text-decoration-color: #008080\">INFO</span>    | distributed.scheduler - Lost all workers\n",
       "</pre>\n"
      ],
      "text/plain": [
       "22:43:35.127 | \u001b[36mINFO\u001b[0m    | distributed.scheduler - Lost all workers\n"
      ]
     },
     "metadata": {},
     "output_type": "display_data"
    },
    {
     "data": {
      "text/html": [
       "<pre style=\"white-space:pre;overflow-x:auto;line-height:normal;font-family:Menlo,'DejaVu Sans Mono',consolas,'Courier New',monospace\">22:43:35.820 | <span style=\"color: #008080; text-decoration-color: #008080\">INFO</span>    | distributed.scheduler - Scheduler closing...\n",
       "</pre>\n"
      ],
      "text/plain": [
       "22:43:35.820 | \u001b[36mINFO\u001b[0m    | distributed.scheduler - Scheduler closing...\n"
      ]
     },
     "metadata": {},
     "output_type": "display_data"
    },
    {
     "data": {
      "text/html": [
       "<pre style=\"white-space:pre;overflow-x:auto;line-height:normal;font-family:Menlo,'DejaVu Sans Mono',consolas,'Courier New',monospace\">22:43:35.822 | <span style=\"color: #008080; text-decoration-color: #008080\">INFO</span>    | distributed.scheduler - Scheduler closing all comms\n",
       "</pre>\n"
      ],
      "text/plain": [
       "22:43:35.822 | \u001b[36mINFO\u001b[0m    | distributed.scheduler - Scheduler closing all comms\n"
      ]
     },
     "metadata": {},
     "output_type": "display_data"
    },
    {
     "data": {
      "text/html": [
       "<pre style=\"white-space:pre;overflow-x:auto;line-height:normal;font-family:Menlo,'DejaVu Sans Mono',consolas,'Courier New',monospace\">22:43:35.824 | <span style=\"color: #008080; text-decoration-color: #008080\">INFO</span>    | Flow run<span style=\"color: #800080; text-decoration-color: #800080\"> 'resilient-kingfisher'</span> - Finished in state <span style=\"color: #008000; text-decoration-color: #008000\">Completed</span>('All states completed.')\n",
       "</pre>\n"
      ],
      "text/plain": [
       "22:43:35.824 | \u001b[36mINFO\u001b[0m    | Flow run\u001b[35m 'resilient-kingfisher'\u001b[0m - Finished in state \u001b[32mCompleted\u001b[0m('All states completed.')\n"
      ]
     },
     "metadata": {},
     "output_type": "display_data"
    }
   ],
   "source": [
    "from prefect_dask.task_runners import DaskTaskRunner\n",
    "\n",
    "@task(name=\"Dask Task\")\n",
    "def print_values(values):\n",
    "    for value in values:\n",
    "        time.sleep(0.5)\n",
    "        print(value, end=\"\\r\")\n",
    "\n",
    "@flow(name=\"Dask Flow\",\n",
    "      task_runner=DaskTaskRunner())\n",
    "def my_flow():\n",
    "    print_values.submit([\"AAAA\"] * 15)\n",
    "    print_values.submit([\"BBBB\"] * 10)\n",
    "\n",
    "if __name__ == \"__main__\":\n",
    "    my_flow()"
   ]
  },
  {
   "cell_type": "markdown",
   "metadata": {},
   "source": [
    "Because the DaskTaskRunner uses multiprocessing, it must be protected by an if __name__ == \"__main__\": guard when used in a script.\n",
    "\n",
    "When using the DaskTaskRunner, Prefect is submitting each task run to a Dask cluster object. The Dask scheduler then determines when and how each individual run should be executed (with the constraint that the order matches the execution graph that Prefect provided).\n",
    "\n",
    "This means the only way to force Dask to walk the task graph in a particular order is to configure Prefect dependencies between your tasks."
   ]
  },
  {
   "cell_type": "code",
   "execution_count": null,
   "metadata": {},
   "outputs": [],
   "source": []
  }
 ],
 "metadata": {
  "kernelspec": {
   "display_name": "prefect_overview",
   "language": "python",
   "name": "prefect_overview"
  },
  "language_info": {
   "codemirror_mode": {
    "name": "ipython",
    "version": 3
   },
   "file_extension": ".py",
   "mimetype": "text/x-python",
   "name": "python",
   "nbconvert_exporter": "python",
   "pygments_lexer": "ipython3",
   "version": "3.9.2"
  },
  "vscode": {
   "interpreter": {
    "hash": "916dbcbb3f70747c44a77c7bcd40155683ae19c65e1c03b4aa3499c5328201f1"
   }
  }
 },
 "nbformat": 4,
 "nbformat_minor": 2
}
